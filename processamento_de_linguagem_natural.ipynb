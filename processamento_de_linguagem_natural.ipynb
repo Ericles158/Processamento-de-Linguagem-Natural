{
  "cells": [
    {
      "cell_type": "markdown",
      "metadata": {
        "id": "view-in-github",
        "colab_type": "text"
      },
      "source": [
        "<a href=\"https://colab.research.google.com/github/Ericles158/Processamento-de-Linguagem-Natural/blob/main/processamento_de_linguagem_natural.ipynb\" target=\"_parent\"><img src=\"https://colab.research.google.com/assets/colab-badge.svg\" alt=\"Open In Colab\"/></a>"
      ]
    },
    {
      "cell_type": "markdown",
      "source": [
        "# Etapa 1 - Início do processamento do Corpus - Leitura de Arquivo\n"
      ],
      "metadata": {
        "id": "x5O_qGcnNNyd"
      }
    },
    {
      "cell_type": "code",
      "source": [
        "import nltk\n",
        "from collections import Counter, defaultdict\n",
        "nltk.download('punkt')\n",
        "nltk.download('stopwords')\n",
        "vazias = nltk.corpus.stopwords.words('portuguese')"
      ],
      "metadata": {
        "colab": {
          "base_uri": "https://localhost:8080/"
        },
        "id": "PYEty-BgNRmN",
        "outputId": "632650e2-46c9-406d-e0fd-c5d7140ace52"
      },
      "execution_count": null,
      "outputs": [
        {
          "output_type": "stream",
          "name": "stderr",
          "text": [
            "[nltk_data] Downloading package punkt to /root/nltk_data...\n",
            "[nltk_data]   Unzipping tokenizers/punkt.zip.\n",
            "[nltk_data] Downloading package stopwords to /root/nltk_data...\n",
            "[nltk_data]   Unzipping corpora/stopwords.zip.\n"
          ]
        }
      ]
    },
    {
      "cell_type": "code",
      "source": [
        "# Criar uma função para fazer a abertura e leitura do arquivo\n",
        "def ler(nome_arquivo):\n",
        "    arquivo = open(nome_arquivo,'r',encoding = 'utf-8')\n",
        "    conteudo_arq = arquivo.read()\n",
        "    arquivo.close()\n",
        "    return conteudo_arq"
      ],
      "metadata": {
        "id": "xdg3DeZvNYmR"
      },
      "execution_count": null,
      "outputs": []
    },
    {
      "cell_type": "markdown",
      "source": [
        "# Desafios Etapa 1\n",
        "A diferença entre caminho absoluto e caminho relativo se refere a maneira utilizada para localizar um arquivo num sistema de arquivos.\n",
        "\n",
        "# Caminho Absoluto\n",
        "Especifica o caminho completo desde a raiz do sistema de arquivos até o arquivo. Não depende do local de onde o script é executado. Por exemplo : começa com \"/no LINUX\", \"/mac\" ou com letra da unidade \"(C:)\" no Windows.\n",
        "\n",
        "# Caminho Relativo\n",
        "Especifica o caminho relativo ao diretório onde o script está sendo executado. Ele é dependente da posição atual, ou seja, do diretório corrente. Por exemplo: o arquivo está instalado em \"projeto/script.py\" e o arquivo está em \"projeto/dados/meuarquivo.txt\". O caminho relativo desse arquivo é \"dados/meuarquivo.txt\" .\n",
        "\n",
        "# Tratamento de Erros\n",
        "Recriar a função ler usando o tratamento de erros. Usar \"Try\" e \"Except\"."
      ],
      "metadata": {
        "id": "thh7RuCsNkIh"
      }
    },
    {
      "cell_type": "code",
      "source": [
        "# arquivo ler recriado com a inserção de \"Try\" e \"Except\"\n",
        "def ler(nome_arquivo):\n",
        "    try:\n",
        "        with open(nome_arquivo,'r',encoding = 'utf-8') as arquivo:\n",
        "            conteudo_arq = arquivo.read()\n",
        "            return conteudo_arq\n",
        "    except FileExistsError:\n",
        "        print(f\"Erro: O arquivo '{nome_arquivo}' não foi encontrado.\")\n",
        "    except UnicodeDecodeError:\n",
        "        print(f\"Erro: problema de codificação ao ler o arquivo '{nome_arquivo}'.\")\n",
        "    except IOError as e:\n",
        "        print(f\"Erro de E/S ao acessar o arquivo '{nome_arquivo}': {e}\")\n",
        "        return None"
      ],
      "metadata": {
        "id": "MzfdxteFNsGF"
      },
      "execution_count": null,
      "outputs": []
    },
    {
      "cell_type": "markdown",
      "source": [
        "# Etapa 2 - Buscador de Palavras\n"
      ],
      "metadata": {
        "id": "s32PiboWNx-O"
      }
    },
    {
      "cell_type": "code",
      "source": [
        "def buscador(alvo, texto):\n",
        "    texto = texto.replace('\\n',' ')\n",
        "    texto = texto.replace('\\t',' ')\n",
        "\n",
        "    ocorrencias =[]\n",
        "\n",
        "    encontrado_aqui = texto.find(alvo, 0)\n",
        "    # Se encontrar a palavra, informa a posição.\n",
        "    # Se não encontrar, informa -1.\n",
        "\n",
        "    while encontrado_aqui >= 0:\n",
        "        pos_inicial = encontrado_aqui - (40 - len(alvo))\n",
        "        trecho = texto[pos_inicial: pos_inicial + 80]\n",
        "\n",
        "        ocorrencias.append(trecho)\n",
        "\n",
        "        encontrado_aqui = texto.find(alvo, encontrado_aqui + 1)\n",
        "\n",
        "        # Inicia a busca a partir da posição anterior + 1\n",
        "        # Se encontra a palavra, informa a posição.\n",
        "        # se não encontra informa - 1.\n",
        "\n",
        "    return ocorrencias\n"
      ],
      "metadata": {
        "id": "qe8iUns-N1o9"
      },
      "execution_count": null,
      "outputs": []
    },
    {
      "cell_type": "code",
      "source": [
        "resultados = buscador('peito',texto)\n",
        "\n",
        "for trecho in resultados:\n",
        "    print(trecho)"
      ],
      "metadata": {
        "id": "Hk7tr39XN4zh"
      },
      "execution_count": null,
      "outputs": []
    },
    {
      "cell_type": "markdown",
      "source": [
        "i o chefe tocantim quem recebeu no peito a ponta farpada.  Quando o corpo robust\n",
        " se tua arma traiçoeira me feriu o peito, o suplicio não vencerá a constancia do\n",
        "java falar; todos escutaram com respeito o heróe, ainda maior na desgraça.  --Gu\n",
        "ança, escrava de Jaguarê, cravou o peito do inimigo.  «Elle caiu, o guerreiro ch\n",
        "O labio de Jandira emudeceu; mas o peito soluçou.  A virjem conheceu que o amor\n",
        " todos dignos de teu valor. Nestes peitos, que te pertencem, ella os nutrirá com\n",
        "ndos que os botões do cardo por um peito feroz, e as mãos lijeiras que tecem os\n",
        " o acolher, todos o escutam com respeito.  «Em suas palavras prudentes, os anciã\n",
        "não quando elle não chupa mais seu peito. Ella é como a mangabeira; nutre o frut\n",
        "ente do Xingú.  As arvores que seu peito encontrava caíam lascadas.  Jurandir es\n",
        "e. Os noivos cuidavam que era a do peito do tucano; mas ella sabia que era do pe\n",
        " tucano; mas ella sabia que era do peito da arára e que tinha as côres de seu gu\n",
        "os arredores. Nada encontrou de suspeito; o rasto, que o inquietava, não chegára\n",
        "amor, e quando o leite encher seus peitos mimozos, para que ella suspenda ao col\n",
        " O grande chefe vergou a cabeça ao peito, como o cedro altaneiro batido pelo tuf\n",
        "re a cabeça de Arací:  --Itaquê respeitou a lei de hospitalidade no corpo de Ubi\n",
        "as o grito de espanto sossobrou no peito dos guerreiros, e rompeu em um grito de\n",
        "o velho guerreiro sossobrou-lhe no peito:  --O arco de Itaquê é como o gavião qu\n",
        "s do guerreiro quando se cruzam ao peito para exprimir a amizade.  Ubirajara apa\n",
        "eu guerreiro.  Ubirajara cinjiu ao peito com um e outro braço, a espoza e a virj\n",
        "336.  Póde-se ler tambem a este respeito o que diz Gabriel Soares, cit. no cap.\n",
        "abriel Soares se exprime a este respeito no cap. 152: «E como o marido lhe leva\n",
        "ilizada se observa tão profundo respeito pela união conjugal, a ponto de não con\n",
        ". VIII, que a liga vermelha e o respeito que ella inspirava indicassem guarda da\n",
        " como sua extensão, dependia do respeito que elle conseguia infundir a seus guer\n",
        "quelles sacerdotes, cercados do respeito dos guerreiros, fortes pelo prestijio d\n",
        "lações do seu culto.  Tal era o respeito que o selvajem professava pela dignidad\n",
        "sseio. Ives d'Evreux diz a este respeito: «Ils sont fort soigneux de tenir leur\n",
        "vel e _nheng_ falar.--Veja-se a respeito dos cantores, _nhengara_, o que se diss\n",
        "# Desafios Etapa 2\n",
        "A importância da busca, case - insensitive, para o\n",
        "No código anterior não está implementada a busca case - insensitive, poi o método find( ) é sensível a letras maiúsculas e minúsculas, isso significa que ele só encontra o alvo se as letras estiverem exatamente iguais, incluindo maiúsculas/minúsculas. Por exemplo se o texto contém \"Peito\" e o alvo for peito, o método find( ) não encontrará nada, pois \"P\" é diferente de \"p\".Faltou a conversão de caixa (lower ou upper). A busca case - insensitive (insensível a letras maiúculas e minúsculas) é essencial para garantir que todas as ocorrências de uma palavra sejam encontradas, independentemente de sua gráfia (com ou sem letras maiúsculas). Por exemplo a palavra peito do exercício anterior poderia estar escrita das seguintes maneiras: PEITO, Peito, pEito, peitO e por isso não seriam detectadas. Com relação a importância da busca case - insensitive pode - se elencar alguns pontos , tais como, as palavras têm o mesmo significado em PLN , independentemente de sua gráfia em letras maiúsculas e/ou maiúsculas. A busca se torna mais coerente e realista, principalmente quando aplicadas a textos naturais, livros, falas ou redes sociais, onde o uso de caixa alta ou baixa é inconsistente. Se a busca case - insensitive não fosse realizada, a função perderia ocorrências importantes das palavras. Isso poderia afetar o resultados de análises estatísticas, sentimentais, ou de frequência, comprometendo a precisão da análise linguística."
      ],
      "metadata": {
        "id": "VXOGFbX8OOS1"
      }
    },
    {
      "cell_type": "code",
      "source": [
        "def buscador(alvo, texto):\n",
        "    texto = texto.replace('\\n',' ')\n",
        "    texto = texto.replace('\\t',' ')\n",
        "\n",
        "    # converte tudo para minúsculo para a busca case - insensitive.\n",
        "    texto = texto.lower()\n",
        "    alvo= alvo.lower()\n",
        "\n",
        "    ocorrencias =[]\n",
        "\n",
        "    encontrado_aqui = texto.find(alvo, 0)\n",
        "    # Se encontrar a palavra, informa a posição.\n",
        "    # Se não encontrar, informa -1.\n",
        "\n",
        "    while encontrado_aqui >= 0: # Corrigido para pegar também a posição \"0\".\n",
        "        pos_inicial = max(0 , encontrado_aqui - (40 - len(alvo)))\n",
        "        trecho = texto[pos_inicial: pos_inicial + 80]\n",
        "\n",
        "        ocorrencias.append(trecho)\n",
        "\n",
        "        encontrado_aqui = texto.find(alvo, encontrado_aqui + 1)\n",
        "\n",
        "        # Retorna a lista de trechos e a quantidade total de vezes que a palavra apareceu\n",
        "\n",
        "    return ocorrencias, len(ocorrencias)"
      ],
      "metadata": {
        "id": "JH7Za5MiOYru"
      },
      "execution_count": null,
      "outputs": []
    },
    {
      "cell_type": "code",
      "source": [
        "resultados, total = buscador('peito',texto)\n",
        "print(f\"Total de ocorrências: {total}.\")\n",
        "for trecho in resultados:\n",
        "    print(trecho)"
      ],
      "metadata": {
        "id": "WcR7MQVbOd5d"
      },
      "execution_count": null,
      "outputs": []
    },
    {
      "cell_type": "markdown",
      "source": [
        "# Etapa 3 - Limpeza do Corpus"
      ],
      "metadata": {
        "id": "eOKCnyd_Ozcd"
      }
    },
    {
      "cell_type": "code",
      "source": [
        "palavras = texto.split()"
      ],
      "metadata": {
        "id": "U2sOn5ddOrq5"
      },
      "execution_count": null,
      "outputs": []
    },
    {
      "cell_type": "code",
      "source": [
        "def limpar(lista):\n",
        "    lixo = '.,:;?!\" ´`^~()[]{ }/\\|@#$%¨&*-'\n",
        "    quase_limpo = [x.strip(lixo).lower() for x in lista]\n",
        "    return[x for x in quase_limpo if x.isalpha() or '-' not in x]"
      ],
      "metadata": {
        "id": "68h5dJ2cO5sJ"
      },
      "execution_count": null,
      "outputs": []
    },
    {
      "cell_type": "code",
      "source": [
        "teste = \"Corre-se atrás do carro, corre se o carro for embora.\"\n",
        "word = teste.split()\n",
        "print(word)"
      ],
      "metadata": {
        "colab": {
          "base_uri": "https://localhost:8080/"
        },
        "id": "58-PSBf_O9d9",
        "outputId": "f0b2296c-9f8e-47d6-8aea-79a5a7a92205"
      },
      "execution_count": null,
      "outputs": [
        {
          "output_type": "stream",
          "name": "stdout",
          "text": [
            "['Corre-se', 'atrás', 'do', 'carro,', 'corre', 'se', 'o', 'carro', 'for', 'embora.']\n"
          ]
        }
      ]
    },
    {
      "cell_type": "code",
      "source": [
        "print(limpar(word))"
      ],
      "metadata": {
        "colab": {
          "base_uri": "https://localhost:8080/"
        },
        "id": "PkhQE1d6PAGp",
        "outputId": "97fc1b1c-fb74-473d-ccbc-a3f8fd515b27"
      },
      "execution_count": null,
      "outputs": [
        {
          "output_type": "stream",
          "name": "stdout",
          "text": [
            "['atrás', 'do', 'carro', 'corre', 'se', 'o', 'carro', 'for', 'embora']\n"
          ]
        }
      ]
    },
    {
      "cell_type": "code",
      "source": [
        "print(len(palavras))\n",
        "palavras = limpar(palavras)\n",
        "print(len(palavras))"
      ],
      "metadata": {
        "id": "-7_vK3agPEAd"
      },
      "execution_count": null,
      "outputs": []
    },
    {
      "cell_type": "markdown",
      "source": [
        "# Desafio Etapa 3\n",
        "Refinar a limpeza da pontuação e remover números"
      ],
      "metadata": {
        "id": "Zm4kNHxxPSBV"
      }
    },
    {
      "cell_type": "code",
      "source": [
        "import re\n",
        "\n",
        "def limpar(lista):\n",
        "    quase_limpo = []\n",
        "    for palavra in lista:\n",
        "        limpa = re.sub(r'[^\\w\\s]','', palavra)\n",
        "        limpa = limpa.lower()\n",
        "        if limpa.isalpha():\n",
        "            quase_limpo.append(limpa)\n",
        "    return quase_limpo"
      ],
      "metadata": {
        "id": "IiwYA4XTPjxe"
      },
      "execution_count": null,
      "outputs": []
    },
    {
      "cell_type": "code",
      "source": [
        "teste1 = \"Corra por 12 metros na rua Status.com, e vire a direita.\"\n",
        "word = teste1.split()"
      ],
      "metadata": {
        "id": "VsfNnE2pPm-l"
      },
      "execution_count": null,
      "outputs": []
    },
    {
      "cell_type": "markdown",
      "source": [
        "**Resultado mostrado abaixo em relação ao solicitado no escopo do desafio etapa 3 , questões 1 e 2**"
      ],
      "metadata": {
        "id": "i1EaMg9iPpAC"
      }
    },
    {
      "cell_type": "code",
      "source": [
        "print(limpar(word))"
      ],
      "metadata": {
        "colab": {
          "base_uri": "https://localhost:8080/"
        },
        "id": "4ZuJnzyuPsZZ",
        "outputId": "57a46f32-bf5e-417e-9ab8-15a26efde49d"
      },
      "execution_count": null,
      "outputs": [
        {
          "output_type": "stream",
          "name": "stdout",
          "text": [
            "['corra', 'por', 'metros', 'na', 'rua', 'statuscom', 'e', 'vire', 'a', 'direita']\n"
          ]
        }
      ]
    },
    {
      "cell_type": "markdown",
      "source": [
        "# Etapa 4: Análise da Quantidade de Palavras e Frequência\n",
        "\n"
      ],
      "metadata": {
        "id": "qdBRaNOwPyWS"
      }
    },
    {
      "cell_type": "code",
      "source": [
        "# Conhecer a quantidade de palavras e vocabulário\n",
        "vocabulario = set(palavras)\n",
        "len(vocabulario)"
      ],
      "metadata": {
        "id": "9EhIif5qP6_-"
      },
      "execution_count": null,
      "outputs": []
    },
    {
      "cell_type": "code",
      "source": [
        "# Calculando a riqueza textual do corpus\n",
        "riqueza = len(vocabulario)/len(palavras) # 6902 / 36585\n",
        "riqueza"
      ],
      "metadata": {
        "id": "onfQxSdsQEx2"
      },
      "execution_count": null,
      "outputs": []
    },
    {
      "cell_type": "code",
      "source": [
        "# Criar um dicionário deste texto\n",
        "from collections import defaultdict\n",
        "\n",
        "def ocorrencias(lista_palavras):\n",
        "    dicionario = defaultdict(int)\n",
        "    for p in lista_palavras:\n",
        "        dicionario[p] += 1\n",
        "\n",
        "    return dicionario"
      ],
      "metadata": {
        "id": "Ppg9NJEWQGr-"
      },
      "execution_count": null,
      "outputs": []
    },
    {
      "cell_type": "code",
      "source": [
        "dic = ocorrencias(palavras)\n",
        "mf = sorted(dic.items(), key = lambda tupla: tupla[1], reverse = True ) [:50]\n",
        "for palavra, n in mf:\n",
        "    print(palavra, '\\t', n)"
      ],
      "metadata": {
        "id": "p9ZfGL31QJgm"
      },
      "execution_count": null,
      "outputs": []
    },
    {
      "cell_type": "code",
      "source": [
        "dic\n",
        "tupla=(0,1)"
      ],
      "metadata": {
        "id": "GGeiVR2yQRhW"
      },
      "execution_count": null,
      "outputs": []
    },
    {
      "cell_type": "code",
      "source": [
        "frequentes_plenas = [x for x in mf if x[0].lower() not in vazias]\n",
        "frequentes_plenas"
      ],
      "metadata": {
        "id": "hFTH9tyYQUKF"
      },
      "execution_count": null,
      "outputs": []
    }
  ],
  "metadata": {
    "colab": {
      "provenance": [],
      "authorship_tag": "ABX9TyNsOQnaaVrb/Dhug7I+Fnhm",
      "include_colab_link": true
    },
    "kernelspec": {
      "display_name": "Python 3",
      "name": "python3"
    },
    "language_info": {
      "name": "python"
    }
  },
  "nbformat": 4,
  "nbformat_minor": 0
}